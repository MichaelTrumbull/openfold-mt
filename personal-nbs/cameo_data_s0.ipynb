{
 "cells": [
  {
   "cell_type": "code",
   "execution_count": 2,
   "metadata": {},
   "outputs": [],
   "source": [
    "import os\n",
    "import matplotlib.pyplot as plt\n",
    "import scipy"
   ]
  },
  {
   "cell_type": "code",
   "execution_count": 1,
   "metadata": {},
   "outputs": [],
   "source": [
    "CAMEO_PREDICTION_PATH = \"../data/taccruns/predictions-cameo/\"\n",
    "CAMEO_PREDICTION_PATH_ZEROED_SINGLE_REP = \"../data/taccruns/predictions-cameo-mod-s0/\"\n",
    "FASTA_DIR = \"../data/taccruns/fasta_dir/\""
   ]
  },
  {
   "cell_type": "code",
   "execution_count": null,
   "metadata": {},
   "outputs": [],
   "source": [
    "def tmscore(target, modified):\n",
    "    tmscore = -1\n",
    "    os.system(f\"./tmscore/TMscore {target} {modified} >> tmscore_temp_output\")\n",
    "    with open(\"tmscore_temp_output\") as f:\n",
    "        for line in f:\n",
    "            if line.startswith(\"TM-score\"):\n",
    "                tmscore = float(line.split('=')[1].strip().split(' ')[0])\n",
    "    os.system(\"rm tmscore_temp_output\")\n",
    "    return tmscore\n",
    "def get_amino_acid_len(protien):\n",
    "    with open(FASTA_DIR + protien + '.fasta') as f:\n",
    "        fastafile = f.readlines()\n",
    "    return(len(fastafile[1]))\n",
    "\n",
    "get_amino_acid_len('fasta_dir/','7rdt_A')"
   ]
  },
  {
   "cell_type": "code",
   "execution_count": null,
   "metadata": {},
   "outputs": [],
   "source": [
    "effn_dict = {}\n",
    "with open() as f:\n",
    "    lines = f.readlines()\n",
    "for line in lines:\n",
    "    effn_dict[line.split()[0]] = float(line.split()[2])"
   ]
  },
  {
   "cell_type": "code",
   "execution_count": null,
   "metadata": {},
   "outputs": [],
   "source": [
    "cameo_dict = {}\n",
    "for pdb_file in os.listdir(CAMEO_PREDICTION_PATH): #for each predicted structure\n",
    "    if pdb_file[-1] == \"b\": #check if is a pdb file\n",
    "        if pdb_file[19:26] == 'unrelax': #check if it the unrelaxed prediction\n",
    "            protein = pdb_file[0:6]\n",
    "            cameo_dict[protein] = {}\n",
    "            cameo_dict[protein]['tmscore'] = tmscore(CAMEO_PREDICTION_PATH + protein, CAMEO_PREDICTION_PATH_ZEROED_SINGLE_REP + protein)\n",
    "            cameo_dict[protein]['effn'] = effn_dict[protein]\n",
    "            cameo_dict[protein]['seqlen'] = get_amino_acid_len(protein)"
   ]
  },
  {
   "cell_type": "code",
   "execution_count": null,
   "metadata": {},
   "outputs": [],
   "source": [
    "\n",
    "plt.rcParams['figure.figsize'] = [15, 6]\n",
    "for protein in cameo_dict.keys():\n",
    "    plt.scatter(protein, cameo_dict[protein]['tmscore'])\n",
    "plt.legend()\n",
    "plt.ylabel('tmscore')\n",
    "plt.title('tmscore between regular and modified (s=s*0) pdb')\n",
    "plt.xticks(rotation=90)\n",
    "plt.show()"
   ]
  },
  {
   "cell_type": "code",
   "execution_count": null,
   "metadata": {},
   "outputs": [],
   "source": [
    "plt.rcParams['figure.figsize'] = [7, 5]\n",
    "for prop in ['effn', 'seqlen']:\n",
    "    x=[]\n",
    "    y=[]\n",
    "    for protein in cameo_dict.keys():\n",
    "        plt.scatter(cameo_dict[protein][prop], cameo_dict[protein]['tmscore'])\n",
    "        x.append(cameo_dict[protein][prop])\n",
    "        y.append(cameo_dict[protein]['tmscore'])\n",
    "    slope, intercept, r_value, p_value, std_err = scipy.stats.linregress(x, y)\n",
    "    plt.title('tmscore between regular and modified (s=s*0) pdb \\n r^2 {:.4}'.format(r_value**2))\n",
    "    plt.xlabel(prop)\n",
    "    plt.ylabel('tmscore')\n",
    "    plt.show()"
   ]
  }
 ],
 "metadata": {
  "kernelspec": {
   "display_name": "pt",
   "language": "python",
   "name": "python3"
  },
  "language_info": {
   "codemirror_mode": {
    "name": "ipython",
    "version": 3
   },
   "file_extension": ".py",
   "mimetype": "text/x-python",
   "name": "python",
   "nbconvert_exporter": "python",
   "pygments_lexer": "ipython3",
   "version": "3.10.4"
  },
  "orig_nbformat": 4,
  "vscode": {
   "interpreter": {
    "hash": "89bb2edc013244411cbf7717b4d79309c84a79783ea40f60c98be42a1849b8fa"
   }
  }
 },
 "nbformat": 4,
 "nbformat_minor": 2
}
