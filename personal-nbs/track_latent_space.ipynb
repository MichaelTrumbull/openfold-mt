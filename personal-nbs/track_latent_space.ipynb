{
 "cells": [
  {
   "attachments": {},
   "cell_type": "markdown",
   "metadata": {},
   "source": [
    "# todo\n",
    "I want to study how the latent space representation of s and the alpha carbon backbone (and z at some point, but z is thicc) changes in the structure module\n",
    "\n",
    "Phase 1\n",
    "- save representations (see algorithm 20 for structure module)\n",
    "  - s (line 9), X_ca (line 16)\n",
    "  - s_i (line 1), z_i (line 2)\n",
    "- run cameo dataset\n",
    "- now i have latent space reps at each iteration 8 * 4 recycles = 32\n",
    "- flatten this space and use similarity metric such as cosine similarity metric\n",
    "- plot (similar to what Julia did) a grid 32 by 32 that shows similarity between each latent space representation at each iteration and recycle\n",
    "\n",
    "Phase 2\n",
    "- With s_i (line 1) and z_i (line 2) I can run the structure module by itself\n",
    "  - This saves a ton of compute time as I run purterbation tests on the struct modu\n",
    "- do DOE purterbations\n",
    "\n",
    "**phone notes from meeting**\n",
    "Algorithm 20 line 1 and 2 save those at each recycle and compare them. Nontrivial: want to set things up so I can run struc module with these loaded files. So once I have the s and z rep I can just input those into the struct module and just run that. Talk to charlotte about that. Save 1 2 and then save after line 9 at ever iteration of the for loop. Latent space tracking is 9 then to track the structure I would save line 16. 16 (alpha carbon backbone) is better than pdb to look at inside the forloop. Check out cosine similarity to compare the representations over time. Maybe Julia has an idea for comparisons as well… initial run where you do these saves do no purturbation. This is valuable to see how it evolves no purterbation. This is first step. Purturbation step. Take 1 and 2 and inject into struct module. Zero si after 9 then save struc (line 16) puterb just first iteration and save at each iteration line 9 and 16. Next run, just perturb at 2nd iteration only but still save everywhere.\n",
    "\n",
    "So in the end I’ll have data for 8 iterations * 8 purturbation spots * 4 recycles. \n",
    "\n",
    "Goal by this Friday: do this run, flatten vector for each iteration and compare. (See photos) in this plot it will be 32x32 to see sequence similarity between flattened tensors. 32= 8iteration*4 recycle.\n",
    "\n",
    "Also maybe do some caparisons for the plots I’ve already generated vs ground truth. So tmscore(purterbed,ground truth)\n",
    "\n",
    "\n",
    "Puturbation list\n",
    "  - s=0 at\n",
    "    - before structure module\n",
    "    - first iteration of structure module\n",
    "    - at each iteration?\n",
    "    - after structure module runs and is about to recycle?\n",
    "  - do this for regular, 3 recycling (is this corret?), runs and for one 1 recylcing run\n",
    "  - **track latent space rep (julia recommended) as it progresses through structure module\n",
    "  - **track predicted shape as it evolves inside the structure module (track through alpha carbon backbone X_ca that i saved)\n",
    "\n",
    "- finish compiling (and double checking) all multiple conformations present in AF training data. Make an batch download script for it...\n",
    "\n",
    "\n"
   ]
  },
  {
   "cell_type": "code",
   "execution_count": 1,
   "metadata": {},
   "outputs": [],
   "source": [
    "import os\n"
   ]
  },
  {
   "cell_type": "code",
   "execution_count": 2,
   "metadata": {},
   "outputs": [],
   "source": [
    "LATENTSPACE_UNPERTURBED = \"../data/taccruns/predictions-latentspace-unperturbed/\""
   ]
  },
  {
   "cell_type": "code",
   "execution_count": null,
   "metadata": {},
   "outputs": [],
   "source": []
  }
 ],
 "metadata": {
  "kernelspec": {
   "display_name": "pt",
   "language": "python",
   "name": "python3"
  },
  "language_info": {
   "codemirror_mode": {
    "name": "ipython",
    "version": 3
   },
   "file_extension": ".py",
   "mimetype": "text/x-python",
   "name": "python",
   "nbconvert_exporter": "python",
   "pygments_lexer": "ipython3",
   "version": "3.10.4"
  },
  "orig_nbformat": 4,
  "vscode": {
   "interpreter": {
    "hash": "89bb2edc013244411cbf7717b4d79309c84a79783ea40f60c98be42a1849b8fa"
   }
  }
 },
 "nbformat": 4,
 "nbformat_minor": 2
}
