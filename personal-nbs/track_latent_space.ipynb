{
 "cells": [
  {
   "attachments": {},
   "cell_type": "markdown",
   "metadata": {},
   "source": [
    "# todo\n",
    "I want to study how the latent space representation of s and the alpha carbon backbone (and z at some point, but z is thicc) changes in the structure module\n",
    "\n",
    "Phase 1\n",
    "- save representations (see algorithm 20 for structure module)\n",
    "  - s (line 9), X_ca (line 16)\n",
    "  - s_i (line 1), z_i (line 2)\n",
    "- run cameo dataset\n",
    "- now i have latent space reps at each iteration 8 * 4 recycles = 32\n",
    "- flatten this space and use similarity metric such as cosine similarity metric\n",
    "- plot (similar to what Julia did) a grid 32 by 32 that shows similarity between each latent space representation at each iteration and recycle\n",
    "\n",
    "Phase 2\n",
    "- With s_i (line 1) and z_i (line 2) I can run the structure module by itself\n",
    "  - This saves a ton of compute time as I run purterbation tests on the struct modu\n",
    "- do DOE purterbations\n",
    "\n",
    "**phone notes from meeting**\n",
    "Algorithm 20 line 1 and 2 save those at each recycle and compare them. Nontrivial: want to set things up so I can run struc module with these loaded files. So once I have the s and z rep I can just input those into the struct module and just run that. Talk to charlotte about that. Save 1 2 and then save after line 9 at ever iteration of the for loop. Latent space tracking is 9 then to track the structure I would save line 16. 16 (alpha carbon backbone) is better than pdb to look at inside the forloop. Check out cosine similarity to compare the representations over time. Maybe Julia has an idea for comparisons as well… initial run where you do these saves do no purturbation. This is valuable to see how it evolves no purterbation. This is first step. Purturbation step. Take 1 and 2 and inject into struct module. Zero si after 9 then save struc (line 16) puterb just first iteration and save at each iteration line 9 and 16. Next run, just perturb at 2nd iteration only but still save everywhere.\n",
    "\n",
    "So in the end I’ll have data for 8 iterations * 8 purturbation spots * 4 recycles. \n",
    "\n",
    "Goal by this Friday: do this run, flatten vector for each iteration and compare. (See photos) in this plot it will be 32x32 to see sequence similarity between flattened tensors. 32= 8iteration*4 recycle.\n",
    "\n",
    "Also maybe do some caparisons for the plots I’ve already generated vs ground truth. So tmscore(purterbed,ground truth)\n",
    "\n",
    "\n",
    "Puturbation list\n",
    "  - s=0 at\n",
    "    - before structure module\n",
    "    - first iteration of structure module\n",
    "    - at each iteration?\n",
    "    - after structure module runs and is about to recycle?\n",
    "  - do this for regular, 3 recycling (is this corret?), runs and for one 1 recylcing run\n",
    "  - **track latent space rep (julia recommended) as it progresses through structure module\n",
    "  - **track predicted shape as it evolves inside the structure module (track through alpha carbon backbone X_ca that i saved)\n",
    "\n",
    "- finish compiling (and double checking) all multiple conformations present in AF training data. Make an batch download script for it...\n",
    "\n",
    "\n"
   ]
  },
  {
   "cell_type": "code",
   "execution_count": 64,
   "metadata": {},
   "outputs": [],
   "source": [
    "import os\n",
    "import torch\n",
    "import pandas as pd\n",
    "import numpy as np\n",
    "import seaborn as sns\n",
    "import torch.nn as nn\n",
    "import matplotlib.pyplot as plt\n"
   ]
  },
  {
   "cell_type": "code",
   "execution_count": 2,
   "metadata": {},
   "outputs": [],
   "source": [
    "LATENTSPACE_UNPERTURBED = \"../data/taccruns/predictions-latentspace-unperturbed/\""
   ]
  },
  {
   "cell_type": "code",
   "execution_count": 136,
   "metadata": {},
   "outputs": [],
   "source": [
    "test_data = np.empty([32,32])\n",
    "for r1 in range(4):\n",
    "    for i1 in range(8):\n",
    "        for r2 in range(4):\n",
    "            for i2 in range(8):\n",
    "                test_data[(r1*8)+i1, (r2*8)+i2] = (r1*8)+i1 + (r2*8)+i2 +20"
   ]
  },
  {
   "cell_type": "code",
   "execution_count": 106,
   "metadata": {},
   "outputs": [],
   "source": [
    "cos = nn.CosineSimilarity(dim=0)\n",
    "def latent_space_cosine_grid(protein, rep):\n",
    "    data = np.empty([32,32])\n",
    "    for r1 in range(4):\n",
    "        for i1 in range(8):\n",
    "            for r2 in range(4):\n",
    "                for i2 in range(8):\n",
    "                    file_1 = LATENTSPACE_UNPERTURBED + protein + '_lspace' + '/' + rep + '_iter_' + str(i1) + '_recy_' + str(r1) + '_.pt'\n",
    "                    file_2 = LATENTSPACE_UNPERTURBED + protein + '_lspace' + '/' + rep + '_iter_' + str(i2) + '_recy_' + str(r2) + '_.pt'\n",
    "                    t1 = torch.flatten(torch.load(file_1))\n",
    "                    t2 = torch.flatten(torch.load(file_2))\n",
    "                    data[(r1*8)+i1, (r2*8)+i2] = cos(t1,t2)\n",
    "    return data\n"
   ]
  },
  {
   "cell_type": "code",
   "execution_count": null,
   "metadata": {},
   "outputs": [],
   "source": [
    "lst_iterations = [f\"r{r}i{i}\" for r in range(4) for i in range(8)]\n",
    "\n",
    "_6tf4_A = latent_space_cosine_grid('6tf4_A', 's')\n"
   ]
  },
  {
   "cell_type": "code",
   "execution_count": 127,
   "metadata": {},
   "outputs": [
    {
     "data": {
      "text/plain": [
       "tensor(0.6829)"
      ]
     },
     "execution_count": 127,
     "metadata": {},
     "output_type": "execute_result"
    }
   ],
   "source": [
    "ax = sns.heatmap(_6tf4_A, xticklabels = lst_iterations, yticklabels = lst_iterations, annot=False)\n",
    "ax.ax.invert_yaxis()"
   ]
  },
  {
   "cell_type": "code",
   "execution_count": null,
   "metadata": {},
   "outputs": [],
   "source": [
    "list_proteins = []\n",
    "for file in os.listdir(LATENTSPACE_UNPERTURBED):\n",
    "    if file[-1] == 'b':\n",
    "        list_proteins.append(file[0:6])\n",
    "        "
   ]
  },
  {
   "cell_type": "code",
   "execution_count": null,
   "metadata": {},
   "outputs": [],
   "source": [
    "for protein in list_proteins:\n",
    "    ax = sns.heatmap(latent_space_cosine_grid(protein, 's'), xticklabels = lst_iterations, yticklabels = lst_iterations, annot=False)\n",
    "    ax.ax.invert_yaxis()\n",
    "    ax.title(protein + 's')"
   ]
  },
  {
   "cell_type": "code",
   "execution_count": null,
   "metadata": {},
   "outputs": [],
   "source": []
  },
  {
   "cell_type": "code",
   "execution_count": null,
   "metadata": {},
   "outputs": [],
   "source": [
    "# old code that didn't work. maybe useful for reference later\n",
    "\n",
    "lst_iterations = [f\"r{r}i{i}\" for r in range(4) for i in range(8)]\n",
    "lst_results = [np.ones(4)*i for i in range(32)]\n",
    "df = pd.DataFrame({'a': lst_iterations,\n",
    "                   'a_results': lst_results,\n",
    "                   'b': lst_iterations,\n",
    "                   'b_results': lst_results\n",
    "                  })\n",
    "df_pivot = df.pivot_table(values=['a_results', 'b_results'], index='a',columns='b',aggfunc=np.sum)\n",
    "###\n",
    "df = pd.DataFrame(columns=lst_iterations)#, index=lst_iterations)\n",
    "for r in range(4):\n",
    "    for i in range(8):\n",
    "        df.loc[f\"r{r}i{i}\",f\"r{r}i{i}\"] = float(i+r)\n",
    "df"
   ]
  }
 ],
 "metadata": {
  "kernelspec": {
   "display_name": "pt",
   "language": "python",
   "name": "python3"
  },
  "language_info": {
   "codemirror_mode": {
    "name": "ipython",
    "version": 3
   },
   "file_extension": ".py",
   "mimetype": "text/x-python",
   "name": "python",
   "nbconvert_exporter": "python",
   "pygments_lexer": "ipython3",
   "version": "3.10.4"
  },
  "orig_nbformat": 4,
  "vscode": {
   "interpreter": {
    "hash": "89bb2edc013244411cbf7717b4d79309c84a79783ea40f60c98be42a1849b8fa"
   }
  }
 },
 "nbformat": 4,
 "nbformat_minor": 2
}
